{
 "cells": [
  {
   "cell_type": "code",
   "execution_count": 19,
   "id": "8e4a08ac",
   "metadata": {},
   "outputs": [
    {
     "name": "stdout",
     "output_type": "stream",
     "text": [
      "John\n",
      "30\n",
      "Hello, my name is John.\n",
      "Happy birthday! I am now 31 years old.\n"
     ]
    }
   ],
   "source": [
    "class Person:\n",
    "    def __init__(self, name, age):\n",
    "        self.name = name\n",
    "        self.age = age\n",
    "\n",
    "    def say_hello(self):\n",
    "        print(f\"Hello, my name is {self.name}.\")\n",
    "\n",
    "    def celebrate_birthday(self):\n",
    "        self.age += 1\n",
    "        print(f\"Happy birthday! I am now {self.age} years old.\")\n",
    "\n",
    "\n",
    "# Create an instance of the Person class\n",
    "person = Person(\"John\", 30)\n",
    "\n",
    "# Access instance variables\n",
    "print(person.name)  # Output: John\n",
    "print(person.age)   # Output: 30\n",
    "\n",
    "# Call instance methods\n",
    "person.say_hello()  # Output: Hello, my name is John.\n",
    "person.celebrate_birthday()  # Output: Happy birthday! I am now 31 years old.\n"
   ]
  },
  {
   "cell_type": "code",
   "execution_count": 20,
   "id": "3d5322d5",
   "metadata": {},
   "outputs": [],
   "source": [
    "class Bank:\n",
    "    def __init__(self,name,accountno,balance):\n",
    "        self.name = name\n",
    "        self.accountno = accountno\n",
    "        self.balance = balance\n",
    "        \n",
    "    def withdraw(self):\n",
    "        amount = int(input(\"Enter amount to withdraw: \"))\n",
    "        self.balance = self.balance - amount\n",
    "        print(\"Balance in your account is\",self.balance)\n",
    "    def deposit(self):\n",
    "        amount = int(input(\"Enter amount to deposit: \"))\n",
    "        self.balance = self.balance + amount\n",
    "        print(\"Balance in your account is\",self.balance)\n",
    "\n",
    "    def display(self):\n",
    "        print(\"Balance in your account is\",self.balance)\n",
    "    \n",
    "st = Bank(\"Rajesh\",201010,60000)"
   ]
  },
  {
   "cell_type": "code",
   "execution_count": 5,
   "id": "931870e0",
   "metadata": {},
   "outputs": [
    {
     "name": "stdout",
     "output_type": "stream",
     "text": [
      "Balance in your account is 60000\n"
     ]
    }
   ],
   "source": [
    "st.display()"
   ]
  },
  {
   "cell_type": "code",
   "execution_count": 6,
   "id": "76d58658",
   "metadata": {},
   "outputs": [
    {
     "name": "stdout",
     "output_type": "stream",
     "text": [
      "Enter amount to deposit: 5000\n",
      "Balance in your account is 65000\n"
     ]
    }
   ],
   "source": [
    "st.deposit()"
   ]
  },
  {
   "cell_type": "code",
   "execution_count": 7,
   "id": "bd034069",
   "metadata": {},
   "outputs": [
    {
     "name": "stdout",
     "output_type": "stream",
     "text": [
      "Enter amount to withdraw: 50000\n",
      "Balance in your account is 15000\n"
     ]
    }
   ],
   "source": [
    "st.withdraw()"
   ]
  },
  {
   "cell_type": "markdown",
   "id": "6752a056",
   "metadata": {},
   "source": [
    "# Inheritance"
   ]
  },
  {
   "cell_type": "code",
   "execution_count": 8,
   "id": "867a7496",
   "metadata": {},
   "outputs": [],
   "source": [
    "# Base class\n",
    "class Animal:\n",
    "    def __init__(self, name):\n",
    "        self.name = name\n",
    "\n",
    "    def eat(self):\n",
    "        print(f\"{self.name} is eating.\")\n",
    "\n",
    "    def sleep(self):\n",
    "        print(f\"{self.name} is sleeping.\")"
   ]
  },
  {
   "cell_type": "markdown",
   "id": "7341ffb3",
   "metadata": {},
   "source": [
    "Animal serves as the base class, \n",
    "which has common attributes and methods for all animals."
   ]
  },
  {
   "cell_type": "code",
   "execution_count": 9,
   "id": "2a22c854",
   "metadata": {},
   "outputs": [],
   "source": [
    "\n",
    "# Single inheritance\n",
    "class Dog(Animal):\n",
    "    def bark(self):\n",
    "        print(f\"{self.name} is barking.\")\n"
   ]
  },
  {
   "cell_type": "code",
   "execution_count": 14,
   "id": "95406950",
   "metadata": {},
   "outputs": [
    {
     "name": "stdout",
     "output_type": "stream",
     "text": [
      "Buddy is eating.\n",
      "Buddy is sleeping.\n",
      "Buddy is barking.\n"
     ]
    }
   ],
   "source": [
    "# Create instances and demonstrate inheritance\n",
    "dog = Dog(\"Buddy\")\n",
    "dog.eat()\n",
    "dog.sleep()\n",
    "dog.bark()"
   ]
  },
  {
   "cell_type": "markdown",
   "id": "5e514cbb",
   "metadata": {},
   "source": [
    "Dog inherits from Animal using single inheritance.\n",
    "It adds a specific method bark to the base class"
   ]
  },
  {
   "cell_type": "code",
   "execution_count": 10,
   "id": "0e7ed5b0",
   "metadata": {},
   "outputs": [],
   "source": [
    "# Multiple inheritance\n",
    "class Eagle(Animal):\n",
    "    def fly(self):\n",
    "        print(f\"{self.name} is flying.\")\n",
    "\n",
    "\n",
    "class Predator:\n",
    "    def hunt(self):\n",
    "        print(f\"{self.name} is hunting.\")\n",
    "\n",
    "\n",
    "class FlyingPredator(Eagle, Predator):\n",
    "    def __init__(self, name):\n",
    "        super().__init__(name)"
   ]
  },
  {
   "cell_type": "code",
   "execution_count": 15,
   "id": "c86d4f08",
   "metadata": {},
   "outputs": [
    {
     "name": "stdout",
     "output_type": "stream",
     "text": [
      "Aquila is eating.\n",
      "Aquila is sleeping.\n",
      "Aquila is flying.\n"
     ]
    }
   ],
   "source": [
    "eagle = Eagle(\"Aquila\")\n",
    "eagle.eat()\n",
    "eagle.sleep()\n",
    "eagle.fly()"
   ]
  },
  {
   "cell_type": "code",
   "execution_count": 16,
   "id": "2a07a4bc",
   "metadata": {},
   "outputs": [
    {
     "name": "stdout",
     "output_type": "stream",
     "text": [
      "Hawk is eating.\n",
      "Hawk is sleeping.\n",
      "Hawk is flying.\n",
      "Hawk is hunting.\n"
     ]
    }
   ],
   "source": [
    "flying_predator = FlyingPredator(\"Hawk\")\n",
    "flying_predator.eat()\n",
    "flying_predator.sleep()\n",
    "flying_predator.fly()\n",
    "flying_predator.hunt()"
   ]
  },
  {
   "cell_type": "markdown",
   "id": "c6478f8a",
   "metadata": {},
   "source": [
    "Eagle also inherits from Animal using single inheritance. It adds a specific method fly to the base class."
   ]
  },
  {
   "cell_type": "code",
   "execution_count": 11,
   "id": "b55cb9b1",
   "metadata": {},
   "outputs": [],
   "source": [
    "\n",
    "# Multilevel inheritance\n",
    "class GermanShepherd(Dog):\n",
    "    def __init__(self, name):\n",
    "        super().__init__(name)\n",
    "\n",
    "    def guard(self):\n",
    "        print(f\"{self.name} is guarding.\")"
   ]
  },
  {
   "cell_type": "code",
   "execution_count": 17,
   "id": "db9dfea3",
   "metadata": {},
   "outputs": [
    {
     "name": "stdout",
     "output_type": "stream",
     "text": [
      "Rocky is eating.\n",
      "Rocky is sleeping.\n",
      "Rocky is barking.\n",
      "Rocky is guarding.\n"
     ]
    }
   ],
   "source": [
    "\n",
    "german_shepherd = GermanShepherd(\"Rocky\")\n",
    "german_shepherd.eat()\n",
    "german_shepherd.sleep()\n",
    "german_shepherd.bark()\n",
    "german_shepherd.guard()"
   ]
  },
  {
   "cell_type": "markdown",
   "id": "27c2a73f",
   "metadata": {},
   "source": [
    "GermanShepherd showcases multilevel inheritance by inheriting from Dog, which itself inherits from Animal. It adds a specific method guard"
   ]
  },
  {
   "cell_type": "code",
   "execution_count": 12,
   "id": "8a14f3f6",
   "metadata": {},
   "outputs": [],
   "source": [
    "\n",
    "# Hierarchical inheritance\n",
    "class Cat(Animal):\n",
    "    def meow(self):\n",
    "        print(f\"{self.name} is meowing.\")"
   ]
  },
  {
   "cell_type": "code",
   "execution_count": 18,
   "id": "fd242add",
   "metadata": {},
   "outputs": [
    {
     "name": "stdout",
     "output_type": "stream",
     "text": [
      "Simba is eating.\n",
      "Simba is sleeping.\n",
      "Simba is meowing.\n",
      "Simba is hunting.\n"
     ]
    }
   ],
   "source": [
    "lion = Lion(\"Simba\")\n",
    "lion.eat()\n",
    "lion.sleep()\n",
    "lion.meow()\n",
    "lion.hunt()"
   ]
  },
  {
   "cell_type": "markdown",
   "id": "f7b62a8c",
   "metadata": {},
   "source": [
    "Lion demonstrates hybrid inheritance by inheriting from both Cat and Predator. It uses super() to initialize the inherited classes."
   ]
  },
  {
   "cell_type": "markdown",
   "id": "7ebcbfdc",
   "metadata": {},
   "source": [
    "# PolyMorphism"
   ]
  },
  {
   "cell_type": "markdown",
   "id": "56eabb0f",
   "metadata": {},
   "source": [
    "one name, many forms"
   ]
  },
  {
   "cell_type": "markdown",
   "id": "3e51c8f4",
   "metadata": {},
   "source": [
    "Polymorphism is a concept in programming that allows objects of different types to be treated as if they belong to a common type. In simple terms, it means that different objects can respond to the same method or function call in different ways."
   ]
  },
  {
   "cell_type": "code",
   "execution_count": 21,
   "id": "4981c3e7",
   "metadata": {},
   "outputs": [
    {
     "name": "stdout",
     "output_type": "stream",
     "text": [
      "Woof!\n",
      "Meow!\n",
      "Moo!\n"
     ]
    }
   ],
   "source": [
    "class Dog:\n",
    "    def make_sound(self):\n",
    "        print(\"Woof!\")\n",
    "\n",
    "class Cat:\n",
    "    def make_sound(self):\n",
    "        print(\"Meow!\")\n",
    "\n",
    "class Cow:\n",
    "    def make_sound(self):\n",
    "        print(\"Moo!\")\n",
    "\n",
    "def make_sound(animal):\n",
    "    animal.make_sound()\n",
    "\n",
    "dog = Dog()\n",
    "cat = Cat()\n",
    "cow = Cow()\n",
    "\n",
    "make_sound(dog)  # Output: Woof!\n",
    "make_sound(cat)  # Output: Meow!\n",
    "make_sound(cow)  # Output: Moo!\n"
   ]
  },
  {
   "cell_type": "markdown",
   "id": "f03bdc8b",
   "metadata": {},
   "source": [
    "In this example, we have three different classes: Dog, Cat, and Cow, each with its own implementation of the make_sound() method. The make_sound() function accepts an animal argument and calls the make_sound() method on that object."
   ]
  },
  {
   "cell_type": "markdown",
   "id": "2f36a6f8",
   "metadata": {},
   "source": [
    "# Encapsulation"
   ]
  },
  {
   "cell_type": "markdown",
   "id": "57d62153",
   "metadata": {},
   "source": [
    "Encapsulation is one of the fundamental principles of object-oriented programming (OOP) that focuses on bundling data and methods together within a class, hiding the internal details and providing a public interface to interact with the object"
   ]
  },
  {
   "cell_type": "markdown",
   "id": "679aaa65",
   "metadata": {},
   "source": [
    " It promotes the concept of data hiding and information hiding."
   ]
  },
  {
   "cell_type": "raw",
   "id": "dc79b183",
   "metadata": {},
   "source": [
    "In Python, encapsulation is achieved through the use of access modifiers and property methods.\n",
    "\n",
    "Access modifiers:\n",
    "Python does not have strict access modifiers like some other languages (e.g., Java). However, there are conventions to indicate the level of access to class members.\n",
    "\n",
    "Public: Class members are public by default and can be accessed from anywhere. They are denoted by regular variable or method names.\n",
    "Protected: Class members that are intended to be accessed within the class or its subclasses are denoted by a single underscore prefix (e.g., _variable, _method()). Although they can be accessed from outside the class, it's considered a convention not to do so.\n",
    "Private: Class members that are intended to be accessed only within the class itself are denoted by a double underscore prefix (e.g., __variable, __method()). They are name-mangled to avoid naming conflicts in subclasses."
   ]
  },
  {
   "cell_type": "code",
   "execution_count": 22,
   "id": "15877632",
   "metadata": {},
   "outputs": [
    {
     "name": "stdout",
     "output_type": "stream",
     "text": [
      "John\n",
      "30\n",
      "30\n",
      "Name: John, Age: 35\n"
     ]
    }
   ],
   "source": [
    "class Person:\n",
    "    def __init__(self, name, age):\n",
    "        self._name = name\n",
    "        self.__age = age\n",
    "\n",
    "    def get_age(self):\n",
    "        return self.__age\n",
    "\n",
    "    def set_age(self, age):\n",
    "        if age > 0:\n",
    "            self.__age = age\n",
    "\n",
    "    def display_info(self):\n",
    "        print(f\"Name: {self._name}, Age: {self.__age}\")\n",
    "\n",
    "\n",
    "# Create an instance of the Person class\n",
    "person = Person(\"John\", 30)\n",
    "\n",
    "# Access the public attribute directly\n",
    "print(person._name)  # Output: John\n",
    "\n",
    "# Access the protected attribute (convention, not enforced)\n",
    "print(person._Person__age)  # Output: 30\n",
    "\n",
    "# Access the private attribute (name-mangled)\n",
    "# print(person.__age)  # Raises an AttributeError\n",
    "\n",
    "# Access the attribute using a getter method\n",
    "print(person.get_age())  # Output: 30\n",
    "\n",
    "# Modify the attribute using a setter method\n",
    "person.set_age(35)\n",
    "\n",
    "# Call a method that displays the person's information\n",
    "person.display_info()  # Output: Name: John, Age: 35\n"
   ]
  },
  {
   "cell_type": "markdown",
   "id": "c07fb79c",
   "metadata": {},
   "source": [
    "# ABSTRACTION"
   ]
  },
  {
   "cell_type": "markdown",
   "id": "9c6e3fc3",
   "metadata": {},
   "source": [
    "Abstraction is a fundamental concept in object-oriented programming that focuses on creating abstract classes or interfaces to define common behaviors and characteristics of related objects. It allows us to define a blueprint or contract for objects without specifying the implementation details. In Python, abstraction is typically achieved using abstract base classes (ABCs) and abstract methods."
   ]
  },
  {
   "cell_type": "markdown",
   "id": "77a775ce",
   "metadata": {},
   "source": [
    "Abstract Base Classes (ABCs):\n",
    "Python provides the abc module to define abstract base classes. An abstract base class cannot be instantiated directly; instead, it serves as a blueprint for subclasses to inherit from. It defines a set of methods and attributes that subclasses must implement."
   ]
  },
  {
   "cell_type": "markdown",
   "id": "2bee616c",
   "metadata": {},
   "source": [
    "To create an abstract base class, you can use the ABC class as a base and decorate abstract methods using the @abstractmethod decorator. Subclasses are then required to provide implementations for these abstract methods."
   ]
  },
  {
   "cell_type": "code",
   "execution_count": 24,
   "id": "7f9c5d59",
   "metadata": {},
   "outputs": [
    {
     "name": "stdout",
     "output_type": "stream",
     "text": [
      "15\n",
      "16\n",
      "50.24\n",
      "25.12\n"
     ]
    }
   ],
   "source": [
    "from abc import ABC, abstractmethod\n",
    "\n",
    "class Shape(ABC):\n",
    "    @abstractmethod\n",
    "    def area(self):\n",
    "        pass\n",
    "\n",
    "    @abstractmethod\n",
    "    def perimeter(self):\n",
    "        pass\n",
    "\n",
    "class Rectangle(Shape):\n",
    "    def __init__(self, length, width):\n",
    "        self.length = length\n",
    "        self.width = width\n",
    "\n",
    "    def area(self):\n",
    "        return self.length * self.width\n",
    "\n",
    "    def perimeter(self):\n",
    "        return 2 * (self.length + self.width)\n",
    "\n",
    "class Circle(Shape):\n",
    "    def __init__(self, radius):\n",
    "        self.radius = radius\n",
    "\n",
    "    def area(self):\n",
    "        return 3.14 * self.radius * self.radius\n",
    "\n",
    "    def perimeter(self):\n",
    "        return 2 * 3.14 * self.radius\n",
    "\n",
    "\n",
    "# Uncommenting the following line will raise an error,\n",
    "# as Shape is an abstract base class and cannot be instantiated directly.\n",
    "# shape = Shape()\n",
    "\n",
    "rectangle = Rectangle(5, 3)\n",
    "print(rectangle.area())       # Output: 15\n",
    "print(rectangle.perimeter())  # Output: 16\n",
    "\n",
    "circle = Circle(4)\n",
    "print(circle.area())          # Output: 50.24\n",
    "print(circle.perimeter())     # Output: 25.12\n"
   ]
  },
  {
   "cell_type": "code",
   "execution_count": null,
   "id": "e8ea17f1",
   "metadata": {},
   "outputs": [],
   "source": []
  }
 ],
 "metadata": {
  "kernelspec": {
   "display_name": "Python 3 (ipykernel)",
   "language": "python",
   "name": "python3"
  },
  "language_info": {
   "codemirror_mode": {
    "name": "ipython",
    "version": 3
   },
   "file_extension": ".py",
   "mimetype": "text/x-python",
   "name": "python",
   "nbconvert_exporter": "python",
   "pygments_lexer": "ipython3",
   "version": "3.9.12"
  }
 },
 "nbformat": 4,
 "nbformat_minor": 5
}
